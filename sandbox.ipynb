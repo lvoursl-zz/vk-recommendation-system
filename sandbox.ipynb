{
 "cells": [
  {
   "cell_type": "code",
   "execution_count": 98,
   "metadata": {
    "collapsed": false,
    "scrolled": false
   },
   "outputs": [
    {
     "name": "stdout",
     "output_type": "stream",
     "text": [
      "[0, 0, 2, 0, 2, 2, 2, 2, 2, 2, 2, 2, 0]\n",
      "[0, 0, 0, 2, 2, 2, 2, 2, 2, 2, 2, 2, 0]\n",
      "0.8\n"
     ]
    }
   ],
   "source": [
    "import pandas as pd\n",
    "import ast\n",
    "\n",
    "music_data_frame = pd.DataFrame(index = [1])\n",
    "music_data_counter = 1\n",
    "\n",
    "# получение данных о предпочтениях пользователя\n",
    "user_counter = 1\n",
    "while user_counter != 40:\n",
    "\ttry:\n",
    "\t\tusers_file = open('users_data/' + str(user_counter), 'r', encoding = 'cp1251')\n",
    "\t\treaded_data = users_file.read()\n",
    "\t\tusers_file.close()\n",
    "\t\treaded_data = readed_data.lower()\n",
    "\n",
    "\t\t# преобразуем данные в словарь\n",
    "\t\tdata = ast.literal_eval(readed_data)\n",
    "\t\tuser_music = data['response'][0]['music']\n",
    "\t\tuser_music = user_music.split(',')\n",
    "\t\t#print(user_music)\n",
    "\t\tfor artist in user_music:\n",
    "\t\t\tif (artist[0] == ' '): \n",
    "\t\t\t\tartist = artist[1:]                \n",
    "\t\t\tif (artist not in music_data_frame.columns) and (len(str(artist)) < 20) and (len(str(artist)) > 3):\n",
    "\t\t\t\tmusic_data_frame[artist] = 0\n",
    "\t\t\t\tmusic_data_counter = music_data_frame.count(axis = 1)\n",
    "\t\t\t\tmusic_data_frame.loc[music_data_counter[1]] = 0\n",
    "\t\t\n",
    "\t\tfor fix_artist in user_music:\n",
    "\t\t\tif (fix_artist[0] == ' '):\n",
    "\t\t\t\tfix_artist = fix_artist[1:]  \n",
    "\t\t\tfor artist in user_music:\n",
    "\t\t\t\tif (artist[0] == ' '):\n",
    "\t\t\t\t\tartist = artist[1:]                \n",
    "\t\t\t\t\n",
    "\t\t\t\tif (fix_artist != artist) :            \n",
    "\t\t\t\t\tartist_index = music_data_frame.columns.get_loc(artist)\n",
    "\t\t\t\t\tfix_artist_index = music_data_frame.columns.get_loc(fix_artist)                   \n",
    "\t\t\t\t\tmusic_data_frame[artist][fix_artist_index + 1] += 1\n",
    "\t\t\t\t\tmusic_data_frame[fix_artist][artist_index + 1] += 1\n",
    "               \n",
    "\t\tuser_counter += 1\n",
    "\texcept Exception as e:\n",
    "\t\t#print('errrroooor ' + str(e))\n",
    "\t\tuser_counter += 1\n",
    "\t\tcontinue\n",
    "\n",
    "\n",
    "columns_num = music_data_frame.count(axis = 1)\n",
    "\n",
    "# сгенерированый csv со всеми взаимосвязями\n",
    "music_data_frame.to_csv('music_matrix.csv', encoding = 'cp1251')\n",
    "\n",
    "# обрабатываем матрицу\n",
    "df = pd.read_csv('music_matrix.csv', encoding = 'cp1251')\n",
    "df.drop('Unnamed: 0', inplace = True, axis = 1)\n",
    "\n",
    "#col_list = list(music_data_frame.columns.values)\n",
    "#print(df[col][1]) \n",
    "#print(df.columns[1])    \n",
    "\n",
    "# чем ближе к 1, тем больше сходство\n",
    "def tanamoto(vector1, vector2):\n",
    "\tc1, c2, shr = 0, 0, 0\n",
    "\tfor i in range(len(vector1)):\n",
    "\t\tif (vector1[i] != 0) : c1 += 1\n",
    "\t\tif (vector2[i] != 0) : c2 += 1\n",
    "\t\tif (vector1[i] != 0) and (vector2[i] != 0) : shr += 1        \n",
    "\treturn (float(shr) / (c1 + c2 - shr))\n",
    "\n",
    "print(list(df[df.columns[3]])) \n",
    "print(list(df[df.columns[2]]))\n",
    "print(tanamoto(list(df[df.columns[3]]), list(df[df.columns[2]])))"
   ]
  },
  {
   "cell_type": "code",
   "execution_count": null,
   "metadata": {
    "collapsed": true
   },
   "outputs": [],
   "source": []
  },
  {
   "cell_type": "code",
   "execution_count": null,
   "metadata": {
    "collapsed": true
   },
   "outputs": [],
   "source": []
  },
  {
   "cell_type": "code",
   "execution_count": null,
   "metadata": {
    "collapsed": true
   },
   "outputs": [],
   "source": []
  }
 ],
 "metadata": {
  "kernelspec": {
   "display_name": "Python 3",
   "language": "python",
   "name": "python3"
  },
  "language_info": {
   "codemirror_mode": {
    "name": "ipython",
    "version": 3
   },
   "file_extension": ".py",
   "mimetype": "text/x-python",
   "name": "python",
   "nbconvert_exporter": "python",
   "pygments_lexer": "ipython3",
   "version": "3.5.1"
  }
 },
 "nbformat": 4,
 "nbformat_minor": 0
}
